{
 "cells": [
  {
   "cell_type": "code",
   "execution_count": 1,
   "id": "d8c40f3c-a4b7-47a5-b4ec-06ded3686783",
   "metadata": {},
   "outputs": [
    {
     "name": "stdin",
     "output_type": "stream",
     "text": [
      "Enter the city:  pune\n"
     ]
    },
    {
     "name": "stdout",
     "output_type": "stream",
     "text": [
      "\n",
      "PuneWeather:\n",
      "Temperature: 27.37°C\n",
      "Wind Speed: 2.8 m/s\n",
      "Description: moderate rain\n",
      "Weather: Rain\n",
      "\n"
     ]
    }
   ],
   "source": [
    "import requests\n",
    "\n",
    "def weather_data(query):\n",
    "    api_key = 'd3997c359824c8dbbceda3f5b8a483d4'  # Replace with your actual API key\n",
    "    res = requests.get('http://api.openweathermap.org/data/2.5/weather?' + query + '&APPID=' + api_key + '&units=metric')\n",
    "    return res.json()\n",
    "\n",
    "def print_weather(result, city):\n",
    "    if result.get('cod') != 200:\n",
    "        print(\"Error:\", result.get('message', 'City name not found...'))\n",
    "        return\n",
    "    # Displaying the weather information in the format \"CityWeather\"\n",
    "    print(f\"{city.capitalize()}Weather:\")\n",
    "    print(\"Temperature: {}°C\".format(result['main']['temp']))\n",
    "    print(\"Wind Speed: {} m/s\".format(result['wind']['speed']))\n",
    "    print(\"Description: {}\".format(result['weather'][0]['description']))\n",
    "    print(\"Weather: {}\".format(result['weather'][0]['main']))\n",
    "\n",
    "def main():\n",
    "    while True:\n",
    "        city = input('Enter the city: ')\n",
    "        print()\n",
    "        if city.isnumeric():\n",
    "            print(\"Please enter a valid city name, not a number.\")\n",
    "            continue\n",
    "        try:\n",
    "            query = 'q=' + city\n",
    "            w_data = weather_data(query)\n",
    "            print_weather(w_data, city)\n",
    "            print()\n",
    "            break  # Exit the loop when a valid city is entered and data is printed\n",
    "        except Exception as e:\n",
    "            print('An error occurred:', str(e))\n",
    "            break\n",
    "\n",
    "if __name__ == '__main__':\n",
    "    main()"
   ]
  },
  {
   "cell_type": "code",
   "execution_count": null,
   "id": "0ea746ce-3929-497f-9d79-373c784769e0",
   "metadata": {},
   "outputs": [],
   "source": []
  }
 ],
 "metadata": {
  "kernelspec": {
   "display_name": "Python 3 (ipykernel)",
   "language": "python",
   "name": "python3"
  },
  "language_info": {
   "codemirror_mode": {
    "name": "ipython",
    "version": 3
   },
   "file_extension": ".py",
   "mimetype": "text/x-python",
   "name": "python",
   "nbconvert_exporter": "python",
   "pygments_lexer": "ipython3",
   "version": "3.12.4"
  }
 },
 "nbformat": 4,
 "nbformat_minor": 5
}
